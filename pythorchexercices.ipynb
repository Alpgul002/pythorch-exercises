{
 "cells": [
  {
   "cell_type": "markdown",
   "id": "b572916d",
   "metadata": {},
   "source": [
    "These exercises and codes are taken from Dive into Deep Learning and learnpytorch"
   ]
  },
  {
   "cell_type": "markdown",
   "id": "72ac1ada",
   "metadata": {},
   "source": [
    "2. Create a random tensor with shape (7, 7)."
   ]
  },
  {
   "cell_type": "code",
   "execution_count": null,
   "id": "6915ab6b",
   "metadata": {},
   "outputs": [],
   "source": [
    "# Import torch\n",
    "import torch \n",
    "\n",
    "# Create random tensor\n",
    "X = torch.rand(size=(7, 7))\n",
    "X, X.shape"
   ]
  }
 ],
 "metadata": {
  "kernelspec": {
   "display_name": "Python 3",
   "language": "python",
   "name": "python3"
  },
  "language_info": {
   "codemirror_mode": {
    "name": "ipython",
    "version": 3
   },
   "file_extension": ".py",
   "mimetype": "text/x-python",
   "name": "python",
   "nbconvert_exporter": "python",
   "pygments_lexer": "ipython3",
   "version": "3.12.1"
  }
 },
 "nbformat": 4,
 "nbformat_minor": 5
}
